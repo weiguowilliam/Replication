{
 "cells": [
  {
   "cell_type": "markdown",
   "metadata": {},
   "source": [
    "import numpy darray"
   ]
  },
  {
   "cell_type": "code",
   "execution_count": 24,
   "metadata": {},
   "outputs": [],
   "source": [
    "from scipy.special import comb, perm\n",
    "import random\n",
    "import scipy.stats\n",
    "import numpy as np\n",
    "import matplotlib.pyplot as plt\n",
    "import pickle\n",
    "from scipy import spatial\n",
    "import csv\n",
    "import pandas"
   ]
  },
  {
   "cell_type": "code",
   "execution_count": 2,
   "metadata": {},
   "outputs": [
    {
     "data": {
      "text/plain": [
       "457"
      ]
     },
     "execution_count": 2,
     "metadata": {},
     "output_type": "execute_result"
    }
   ],
   "source": [
    "\n",
    "pickle_in = open('D:\\\\science1.pickle',\"rb\")\n",
    "science_array = pickle.load(pickle_in)\n",
    "len(science_array)"
   ]
  },
  {
   "cell_type": "markdown",
   "metadata": {},
   "source": [
    "build words lists"
   ]
  },
  {
   "cell_type": "code",
   "execution_count": 3,
   "metadata": {},
   "outputs": [
    {
     "data": {
      "text/plain": [
       "(['male', 'man', 'boy', 'brother', 'he', 'him', 'his', 'son'],\n",
       " ['female', 'woman', 'girl', 'sister', 'she', 'her', 'hers', 'daughter'])"
      ]
     },
     "execution_count": 3,
     "metadata": {},
     "output_type": "execute_result"
    }
   ],
   "source": [
    "#weat 1\n",
    "flowers = ['aster', 'clover', 'hyacinth', 'marigold', 'poppy', 'azalea', 'crocus', 'iris', 'orchid', 'rose', 'bluebell', 'daffodil', 'lilac', 'pansy', 'tulip', 'buttercup', 'daisy', 'lily', 'peony', 'violet', 'carnation', 'gladiola',\n",
    "'magnolia', 'petunia', 'zinnia']\n",
    "insects = ['ant', 'caterpillar', 'flea', 'locust', 'spider', 'bedbug', 'centipede', 'fly', 'maggot', 'tarantula',\n",
    "'bee', 'cockroach', 'gnat', 'mosquito', 'termite', 'beetle', 'cricket', 'hornet', 'moth', 'wasp', 'blackfly',\n",
    "'dragonfly', 'horsefly', 'roach', 'weevil']\n",
    "pleasant = ['caress', 'freedom', 'health', 'love', 'peace', 'cheer', 'friend', 'heaven', 'loyal', 'pleasure', \n",
    "            'diamond', 'gentle', 'honest', 'lucky', 'rainbow', 'diploma', 'gift', 'honor', 'miracle', 'sunrise', 'family',\n",
    "'happy', 'laughter', 'paradise', 'vacation']\n",
    "unpleasant = ['abuse', 'crash', 'filth', 'murder', 'sickness', 'accident', 'death', 'grief', 'poison', 'stink',\n",
    "'assault', 'disaster', 'hatred', 'pollute', 'tragedy', 'divorce', 'jail', 'poverty', 'ugly', 'cancer', 'kill', 'rotten',\n",
    "'vomit', 'agony', 'prison']\n",
    "\n",
    "#weat 2\n",
    "instruments = ['bagpipe', 'cello', 'guitar', 'lute', 'trombone', 'banjo', 'clarinet', 'harmonica', 'mandolin',\n",
    "'trumpet', 'bassoon', 'drum', 'harp', 'oboe', 'tuba', 'bell', 'fiddle', 'harpsichord', 'piano', 'viola', 'bongo',\n",
    "'flute', 'horn', 'saxophone', 'violin']\n",
    "weapons = ['arrow', 'club', 'gun', 'missile', 'spear', 'axe', 'dagger', 'harpoon', 'pistol', 'sword', 'blade',\n",
    "'dynamite', 'hatchet', 'rifle', 'tank', 'bomb', 'firearm', 'knife', 'shotgun', 'teargas', 'cannon', 'grenade',\n",
    "'mace', 'slingshot', 'whip']\n",
    "pleasant, unpleasant\n",
    "\n",
    "#weat 3\n",
    "european_3 = ['Adam', 'Harry', 'Josh', 'Roger', 'Alan', 'Frank', 'Justin',\n",
    "'Ryan', 'Andrew',  'Jack', 'Matthew', 'Stephen', 'Brad', 'Greg' , 'Paul', \n",
    "'Jonathan', 'Peter',  'Amanda', 'Courtney', 'Heather', 'Melanie', 'Katie','Betsy', 'Kristin', 'Nancy', 'Stephanie', \n",
    "'Ellen', 'Lauren', 'Colleen', 'Emily', 'Megan', 'Rachel']\n",
    "african_3 = [ 'Alonzo', 'Jamel',  'Theo', 'Alphonse', 'Jerome',\n",
    "'Leroy',  'Torrance', 'Darnell', 'Lamar', 'Lionel', 'Tyree', 'Deion', 'Lamont', 'Malik',\n",
    "'Terrence', 'Tyrone',  'Lavon', 'Marcellus',  'Wardell', 'Nichelle',\n",
    "'Shereen',  'Ebony', 'Latisha', 'Shaniqua',  'Jasmine',\n",
    "'Tanisha', 'Tia', 'Lakisha', 'Latoya', 'Yolanda', 'Malika',  'Yvette']\n",
    "pleasant\n",
    "unpleasant_3 = ['abuse', 'crash', 'filth', 'murder', 'sickness', 'accident', 'death', 'grief', 'poison', 'stink',\n",
    "'assault', 'disaster', 'hatred', 'pollute', 'tragedy', 'divorce', 'jail', 'poverty', 'ugly', 'cancer', 'kill', \n",
    "'rotten','vomit', 'bomb','evil']\n",
    "\n",
    "#weat 4\n",
    "european_4 = ['Brad', 'Brendan', 'Geoffrey', 'Greg', 'Brett',  'Matthew', 'Neil',\n",
    "'Todd', 'Allison', 'Anne', 'Carrie', 'Emily', 'Jill', 'Laurie',  'Meredith', 'Sarah']\n",
    "african_4 = ['Darnell', 'Hakim', 'Jermaine', 'Kareem', 'Jamal', 'Leroy', 'Rasheed',\n",
    " 'Tyrone', 'Aisha', 'Ebony', 'Keisha', 'Kenya',  'Lakisha', 'Latoya', 'Tamika',\n",
    "'Tanisha' ]\n",
    "pleasant, unpleasant_3\n",
    "\n",
    "#weat 5\n",
    "european_4, african_4\n",
    "pleasant_5 = ['joy', 'love', 'peace', 'wonderful', 'pleasure', 'friend', 'laughter', 'happy']\n",
    "unpleasant_5 = ['agony', 'terrible', 'horrible', 'nasty', 'evil', 'war', 'awful', 'failure']\n",
    "\n",
    "#weat  6\n",
    "male = ['John', 'Paul', 'Mike', 'Kevin', 'Steve', 'Greg', 'Jeff', 'Bill']\n",
    "female = ['Amy', 'Joan', 'Lisa', 'Sarah', 'Diana', 'Kate', 'Ann', 'Donna']\n",
    "career = ['executive', 'management', 'professional', 'corporation', 'salary', 'office', 'business', 'career']\n",
    "family = ['home', 'parents', 'children', 'family', 'cousins', 'marriage', 'wedding', 'relatives']\n",
    "\n",
    "#weat 7\n",
    "math = ['math', 'algebra', 'geometry', 'calculus', 'equations', 'computation', 'numbers', 'addition']\n",
    "arts = ['poetry', 'art', 'dance', 'literature', 'novel', 'symphony', 'drama', 'sculpture']\n",
    "male_term = ['male', 'man', 'boy', 'brother', 'he', 'him', 'his', 'son']\n",
    "female_term = ['female', 'woman', 'girl', 'sister', 'she', 'her', 'hers', 'daughter']\n",
    "\n",
    "#weat 8\n",
    "science = ['science', 'technology', 'physics', 'chemistry', 'Einstein', 'NASA', 'experiment', 'astronomy']\n",
    "arts_8 = ['poetry', 'art', 'Shakespeare', 'dance', 'literature', 'novel', 'symphony', 'drama']\n",
    "male_term_8 = ['brother', 'father', 'uncle', 'grandfather', 'son', 'he', 'his', 'him']\n",
    "female_term_8 = ['sister', 'mother', 'aunt', 'grandmother', 'daughter', 'she', 'hers', 'her']\n",
    "\n",
    "#weat 9\n",
    "mental_disease = ['sad', 'hopeless', 'gloomy', 'tearful', 'miserable', 'depressed']\n",
    "physical_disease = ['sick', 'illness', 'influenza', 'disease', 'virus', 'cancer']\n",
    "temporary = ['impermanent', 'unstable', 'variable', 'fleeting', 'short-term', 'brief', 'occasional' ]\n",
    "permanent = [ 'stable', 'always', 'constant', 'persistent', 'chronic', 'prolonged', 'forever']\n",
    "\n",
    "#weat 10\n",
    "young_name = ['Tiffany', 'Michelle', 'Cindy', 'Kristy', 'Brad', 'Eric', 'Joey', 'Billy']\n",
    "old_name = [ 'Ethel', 'Bernice', 'Gertrude', 'Agnes', 'Cecil', 'Wilbert', 'Mortimer', 'Edgar']\n",
    "pleasant_5, unpleasant_5\n",
    "\n",
    "#wefat 1\n",
    "career_f1 = ['technician', 'accountant', 'supervisor', 'engineer', 'worker', 'educator', 'clerk', 'counselor', \n",
    "             'inspector', 'mechanic', 'manager', 'therapist', 'administrator', 'salesperson', 'receptionist', \n",
    "             'librarian', 'advisor', 'pharmacist', 'janitor', 'psychologist', 'physician', 'carpenter', 'nurse',\n",
    "             'investigator', 'bartender', 'specialist', 'electrician', 'officer', 'pathologist', 'teacher', \n",
    "             'lawyer', 'planner', 'practitioner', 'plumber', 'instructor', 'surgeon', 'veterinarian', 'paramedic',\n",
    "             'examiner', 'chemist', 'machinist', 'appraiser', 'nutritionist', 'architect', 'hairdresser', 'baker',\n",
    "             'programmer', 'paralegal', 'hygienist','scientist']\n",
    "male_term, female_term\n",
    "\n",
    "#wefat 2\n",
    "names = ['Kelly', 'Tracy', 'Jamie', 'Jackie', 'Jesse', 'Courtney', 'Lynn', 'Taylor', 'Leslie', 'Shannon',\n",
    "'Stacey', 'Jessie', 'Shawn', 'Stacy', 'Casey', 'Bobby', 'Terry', 'Lee', 'Ashley', 'Eddie', 'Chris', 'Jody', 'Pat',\n",
    "'Carey', 'Willie', 'Morgan', 'Robbie', 'Joan', 'Alexis', 'Kris', 'Frankie', 'Bobbie', 'Dale', 'Robin', 'Billie',\n",
    "'Adrian', 'Kim', 'Jaime', 'Jean', 'Francis', 'Marion', 'Dana', 'Rene', 'Johnnie', 'Jordan', 'Carmen', 'Ollie',\n",
    "'Dominique', 'Jimmie', 'Shelby']\n",
    "male_term, female_term\n"
   ]
  },
  {
   "cell_type": "markdown",
   "metadata": {},
   "source": [
    "weat 1"
   ]
  },
  {
   "cell_type": "code",
   "execution_count": 4,
   "metadata": {},
   "outputs": [],
   "source": [
    "\n",
    "\n",
    "def associate(w,A,B):\n",
    "    sum_a = 0\n",
    "    sum_b = 0\n",
    "    w_value = science_array.get(w)\n",
    "    \n",
    "    for a in A:\n",
    "        a_value = science_array.get(a)\n",
    "        cos_a = 1 - spatial.distance.cosine(w_value, a_value)\n",
    "        sum_a += cos_a\n",
    "    mean_A = sum_a/len(A)\n",
    "    \n",
    "    for b in B:\n",
    "        b_value = science_array.get(b)\n",
    "        cos_b = 1 - spatial.distance.cosine(w_value, b_value)\n",
    "        sum_b += cos_b\n",
    "    mean_B = sum_b/len(B)\n",
    "    \n",
    "    return mean_A - mean_B\n",
    "\n",
    "def difference(X,Y,A,B):\n",
    "    s_x = 0\n",
    "    s_y = 0\n",
    "    for x in X:\n",
    "        s_x += associate(x,A,B)\n",
    "    for y in Y:\n",
    "        s_y += associate(y,A,B)\n",
    "    return s_x - s_y"
   ]
  },
  {
   "cell_type": "code",
   "execution_count": 5,
   "metadata": {},
   "outputs": [],
   "source": [
    "def effect_size(X,Y,A,B):\n",
    "    mean1 = 0\n",
    "    mean2 = 0\n",
    "    for x in X:\n",
    "        mean1 += associate(x,A,B)\n",
    "    mean1 = mean1/len(X)\n",
    "    for y in Y:\n",
    "        mean2 += associate(y,A,B)\n",
    "    mean2 = mean2/len(Y)\n",
    "    \n",
    "    list_sum = X+Y\n",
    "    associate_list_sum = []\n",
    "    for i in list_sum:\n",
    "        associate_i = associate(i,A,B)\n",
    "        associate_list_sum.append(associate_i)\n",
    "    std_dev = np.std(associate_list_sum, ddof=1)\n",
    "    \n",
    "    return (mean1 - mean2)/std_dev\n",
    "        "
   ]
  },
  {
   "cell_type": "markdown",
   "metadata": {},
   "source": [
    "effect size"
   ]
  },
  {
   "cell_type": "code",
   "execution_count": 14,
   "metadata": {},
   "outputs": [
    {
     "data": {
      "text/plain": [
       "1.50431549276477"
      ]
     },
     "execution_count": 14,
     "metadata": {},
     "output_type": "execute_result"
    }
   ],
   "source": [
    "#weat 1\n",
    "effect_size(flowers, insects, pleasant, unpleasant)"
   ]
  },
  {
   "cell_type": "code",
   "execution_count": 15,
   "metadata": {},
   "outputs": [
    {
     "data": {
      "text/plain": [
       "1.53398870351849"
      ]
     },
     "execution_count": 15,
     "metadata": {},
     "output_type": "execute_result"
    }
   ],
   "source": [
    "#weat 2\n",
    "effect_size(instruments, weapons, pleasant, unpleasant)"
   ]
  },
  {
   "cell_type": "code",
   "execution_count": 16,
   "metadata": {},
   "outputs": [
    {
     "data": {
      "text/plain": [
       "1.4052075375830486"
      ]
     },
     "execution_count": 16,
     "metadata": {},
     "output_type": "execute_result"
    }
   ],
   "source": [
    "#weat 3\n",
    "effect_size(european_3, african_3,pleasant, unpleasant_3)"
   ]
  },
  {
   "cell_type": "code",
   "execution_count": 17,
   "metadata": {},
   "outputs": [
    {
     "data": {
      "text/plain": [
       "1.4985823551734039"
      ]
     },
     "execution_count": 17,
     "metadata": {},
     "output_type": "execute_result"
    }
   ],
   "source": [
    "#weat 4\n",
    "effect_size(european_4, african_4,pleasant,unpleasant_3)"
   ]
  },
  {
   "cell_type": "code",
   "execution_count": 18,
   "metadata": {},
   "outputs": [
    {
     "data": {
      "text/plain": [
       "1.283929666435141"
      ]
     },
     "execution_count": 18,
     "metadata": {},
     "output_type": "execute_result"
    }
   ],
   "source": [
    "#weat 5\n",
    "effect_size(european_4, african_4, pleasant_5, unpleasant_5)"
   ]
  },
  {
   "cell_type": "code",
   "execution_count": 19,
   "metadata": {},
   "outputs": [
    {
     "data": {
      "text/plain": [
       "1.8139146236810444"
      ]
     },
     "execution_count": 19,
     "metadata": {},
     "output_type": "execute_result"
    }
   ],
   "source": [
    "#weat 6\n",
    "effect_size(male, female, career, family)"
   ]
  },
  {
   "cell_type": "code",
   "execution_count": 20,
   "metadata": {},
   "outputs": [
    {
     "data": {
      "text/plain": [
       "1.055014787316265"
      ]
     },
     "execution_count": 20,
     "metadata": {},
     "output_type": "execute_result"
    }
   ],
   "source": [
    "#weat 7\n",
    "effect_size(math, arts, male_term, female_term)"
   ]
  },
  {
   "cell_type": "code",
   "execution_count": 12,
   "metadata": {},
   "outputs": [
    {
     "data": {
      "text/plain": [
       "1.2374533926249003"
      ]
     },
     "execution_count": 12,
     "metadata": {},
     "output_type": "execute_result"
    }
   ],
   "source": [
    "#weat 8\n",
    "effect_size(science, arts_8, male_term_8, female_term_8)"
   ]
  },
  {
   "cell_type": "code",
   "execution_count": 12,
   "metadata": {},
   "outputs": [
    {
     "data": {
      "text/plain": [
       "1.3827549262269896"
      ]
     },
     "execution_count": 12,
     "metadata": {},
     "output_type": "execute_result"
    }
   ],
   "source": [
    "#weat 9\n",
    "effect_size(mental_disease, physical_disease, temporary, permanent)"
   ]
  },
  {
   "cell_type": "code",
   "execution_count": 11,
   "metadata": {},
   "outputs": [
    {
     "data": {
      "text/plain": [
       "1.212890713327052"
      ]
     },
     "execution_count": 11,
     "metadata": {},
     "output_type": "execute_result"
    }
   ],
   "source": [
    "#weat 10\n",
    "effect_size(young_name, old_name, pleasant_5, unpleasant_5)"
   ]
  },
  {
   "cell_type": "markdown",
   "metadata": {},
   "source": [
    "To do:\n",
    "- p value(check)\n",
    "- find the reason for 3 **wrong** results(done)\n",
    "- add content to notebook\n",
    "- add two figures in paper(done)"
   ]
  },
  {
   "cell_type": "markdown",
   "metadata": {},
   "source": [
    "P-value"
   ]
  },
  {
   "cell_type": "code",
   "execution_count": 6,
   "metadata": {},
   "outputs": [],
   "source": [
    "def sample_statistics(X, Y, A, B,num = 1000):\n",
    "    list_1 = X + Y\n",
    "    sample_list = []\n",
    "    i = 0\n",
    "    \n",
    "    while i< num:\n",
    "        x_test = np.random.choice(list_1,size = len(X), replace = False)\n",
    "        y_test = np.setdiff1d(list_1,x_test)\n",
    "        s_sample = difference(x_test, y_test, A, B)\n",
    "        sample_list.append(s_sample)\n",
    "        i += 1\n",
    "    \n",
    "    mean = np.sum(sample_list)/len(sample_list)\n",
    "    std_dev = np.std(sample_list, ddof=1)\n",
    "    \n",
    "    return mean, std_dev"
   ]
  },
  {
   "cell_type": "code",
   "execution_count": 7,
   "metadata": {},
   "outputs": [],
   "source": [
    "def p_value(X, Y, A, B,num = 1000):\n",
    "    \n",
    "    m,s = sample_statistics(X,Y,A,B,num)\n",
    "    d = difference(X, Y, A, B)\n",
    "    p = 1 - scipy.stats.norm.cdf(d,loc = m, scale = s)\n",
    "    return p"
   ]
  },
  {
   "cell_type": "code",
   "execution_count": 16,
   "metadata": {},
   "outputs": [
    {
     "data": {
      "text/plain": [
       "2.8380337191435956e-08"
      ]
     },
     "execution_count": 16,
     "metadata": {},
     "output_type": "execute_result"
    }
   ],
   "source": [
    "#weat 1\n",
    "p_value(flowers, insects, pleasant, unpleasant)\n",
    "#after roundup, it's e-7 as the results in paper"
   ]
  },
  {
   "cell_type": "code",
   "execution_count": 89,
   "metadata": {},
   "outputs": [
    {
     "name": "stdout",
     "output_type": "stream",
     "text": [
      "weat_2 2.1808739480988493e-08\n"
     ]
    }
   ],
   "source": [
    "#weat 2\n",
    "print(\"weat_2\",p_value(instruments, weapons, pleasant, unpleasant))"
   ]
  },
  {
   "cell_type": "code",
   "execution_count": 32,
   "metadata": {},
   "outputs": [
    {
     "name": "stdout",
     "output_type": "stream",
     "text": [
      "weat_3 7.639361365718855e-09\n"
     ]
    }
   ],
   "source": [
    "#weat 3\n",
    "print(\"weat_3\",p_value(european_3, african_3,pleasant, unpleasant_3))"
   ]
  },
  {
   "cell_type": "code",
   "execution_count": 35,
   "metadata": {},
   "outputs": [
    {
     "name": "stdout",
     "output_type": "stream",
     "text": [
      "weat_4 1.7774293234684713e-05\n"
     ]
    }
   ],
   "source": [
    "#weat 4\n",
    "print(\"weat_4\",p_value(european_4, african_4,pleasant,unpleasant_3))"
   ]
  },
  {
   "cell_type": "code",
   "execution_count": 92,
   "metadata": {},
   "outputs": [
    {
     "name": "stdout",
     "output_type": "stream",
     "text": [
      "weat_5 0.0001769339616499721\n"
     ]
    }
   ],
   "source": [
    "#weat 5\n",
    "print(\"weat_5\",p_value(european_4, african_4, pleasant_5, unpleasant_5))"
   ]
  },
  {
   "cell_type": "code",
   "execution_count": 84,
   "metadata": {},
   "outputs": [
    {
     "name": "stdout",
     "output_type": "stream",
     "text": [
      "weat_6 0.00010740392999897264\n"
     ]
    }
   ],
   "source": [
    "#weat 6\n",
    "print(\"weat_6\",p_value(male, female, career, family))"
   ]
  },
  {
   "cell_type": "code",
   "execution_count": 94,
   "metadata": {},
   "outputs": [
    {
     "name": "stdout",
     "output_type": "stream",
     "text": [
      "weat_7 0.01759572266009468\n"
     ]
    }
   ],
   "source": [
    "#waet 7\n",
    "print(\"weat_7\",p_value(math, arts, male_term, female_term))"
   ]
  },
  {
   "cell_type": "code",
   "execution_count": 86,
   "metadata": {},
   "outputs": [
    {
     "name": "stdout",
     "output_type": "stream",
     "text": [
      "weat_8 0.00613651659753256\n"
     ]
    }
   ],
   "source": [
    "#waet 8\n",
    "print(\"weat_8\",p_value(science, arts_8, male_term_8, female_term_8))"
   ]
  },
  {
   "cell_type": "code",
   "execution_count": 87,
   "metadata": {},
   "outputs": [
    {
     "name": "stdout",
     "output_type": "stream",
     "text": [
      "weat_9 0.005564890138694101\n"
     ]
    }
   ],
   "source": [
    "#waet 9\n",
    "print(\"weat_9\",p_value(mental_disease, physical_disease, temporary, permanent))"
   ]
  },
  {
   "cell_type": "code",
   "execution_count": 9,
   "metadata": {},
   "outputs": [
    {
     "name": "stdout",
     "output_type": "stream",
     "text": [
      "weat_10 0.008668367888436168\n"
     ]
    }
   ],
   "source": [
    "#weat 10\n",
    "print(\"weat_10\",p_value(young_name, old_name, pleasant_5, unpleasant_5))"
   ]
  },
  {
   "cell_type": "markdown",
   "metadata": {},
   "source": [
    "figure"
   ]
  },
  {
   "cell_type": "markdown",
   "metadata": {},
   "source": [
    "Todo\n",
    "\n",
    "1. get the percentage of women(done)\n",
    "2. extract word vectors of names, attributes from science.pickle(done)\n",
    "3. calculate the wefat statistics for names(done)\n",
    "3. draw dot plot(done)\n",
    "4. make pearson's correlation coefficient test(done)"
   ]
  },
  {
   "cell_type": "code",
   "execution_count": 101,
   "metadata": {},
   "outputs": [],
   "source": [
    "def associate_f(w,A,B):\n",
    "    sum_a = 0\n",
    "    sum_b = 0\n",
    "    w_value = science_array.get(w)\n",
    "    \n",
    "    for a in A:\n",
    "        a_value = science_array.get(a)\n",
    "        cos_a = 1 - spatial.distance.cosine(w_value, a_value)\n",
    "        sum_a += cos_a\n",
    "    mean_A = sum_a/len(A)\n",
    "    \n",
    "    for b in B:\n",
    "        b_value = science_array.get(b)\n",
    "        cos_b = 1 - spatial.distance.cosine(w_value, b_value)\n",
    "        sum_b += cos_b\n",
    "    mean_B = sum_b/len(B)\n",
    "    \n",
    "    list_sum = A + B\n",
    "    associate_list_sum = []\n",
    "    for i in list_sum:\n",
    "        i_value = science_array.get(i)\n",
    "        cos_i = 1 - spatial.distance.cosine(w_value, i_value)\n",
    "#         associate_i = associate(i,A,B)\n",
    "        associate_list_sum.append(cos_i)\n",
    "    std_dev = np.std(associate_list_sum, ddof=1)\n",
    "    \n",
    "    return -(mean_A - mean_B)/std_dev"
   ]
  },
  {
   "cell_type": "code",
   "execution_count": 102,
   "metadata": {},
   "outputs": [],
   "source": [
    "associate_f_1_dict = {}\n",
    "\n",
    "for i in career_f1:\n",
    "    associate_f_1_dict[i] = associate_f(i, male_term, female_term)\n",
    "\n",
    "associate_f_2_dict = {}\n",
    "\n",
    "for i in names:\n",
    "    associate_f_2_dict[i] = associate_f(i, male_term, female_term)"
   ]
  },
  {
   "cell_type": "markdown",
   "metadata": {},
   "source": [
    "2 figures"
   ]
  },
  {
   "cell_type": "markdown",
   "metadata": {},
   "source": [
    "name_gender association"
   ]
  },
  {
   "cell_type": "code",
   "execution_count": 103,
   "metadata": {},
   "outputs": [],
   "source": [
    "#import 2 csv files\n",
    "occupation_table = pandas.read_csv('D:\\\\professionsBLS2015.csv')\n",
    "bi_name_table = pandas.read_csv('D:\\\\censusNames1990.csv')"
   ]
  },
  {
   "cell_type": "code",
   "execution_count": 104,
   "metadata": {},
   "outputs": [],
   "source": [
    "names_dict = {i : 0 for i in names}"
   ]
  },
  {
   "cell_type": "code",
   "execution_count": 105,
   "metadata": {},
   "outputs": [
    {
     "name": "stderr",
     "output_type": "stream",
     "text": [
      "C:\\Users\\Wei Guo\\Anaconda3\\lib\\site-packages\\ipykernel_launcher.py:1: DeprecationWarning: \n",
      ".ix is deprecated. Please use\n",
      ".loc for label based indexing or\n",
      ".iloc for positional indexing\n",
      "\n",
      "See the documentation here:\n",
      "http://pandas.pydata.org/pandas-docs/stable/indexing.html#ix-indexer-is-deprecated\n",
      "  \"\"\"Entry point for launching an IPython kernel.\n",
      "C:\\Users\\Wei Guo\\Anaconda3\\lib\\site-packages\\ipykernel_launcher.py:5: DeprecationWarning: \n",
      ".ix is deprecated. Please use\n",
      ".loc for label based indexing or\n",
      ".iloc for positional indexing\n",
      "\n",
      "See the documentation here:\n",
      "http://pandas.pydata.org/pandas-docs/stable/indexing.html#ix-indexer-is-deprecated\n",
      "  \"\"\"\n"
     ]
    }
   ],
   "source": [
    "for ind, name in enumerate(bi_name_table.ix[:,0]):\n",
    "    check_name = name[0] + name[1:].lower()\n",
    "#     print(ind, check_name)\n",
    "    if check_name in names_dict:\n",
    "        names_dict[check_name] = bi_name_table.ix[ind,3]/(bi_name_table.ix[ind,3] + bi_name_table.ix[ind,4]) * 100"
   ]
  },
  {
   "cell_type": "code",
   "execution_count": 106,
   "metadata": {},
   "outputs": [],
   "source": [
    "percentage_2 = []\n",
    "statistics_2 = []\n",
    "\n",
    "for i in names:\n",
    "    percentage_2.append(names_dict[i])\n",
    "    statistics_2.append(associate_f_2_dict[i])"
   ]
  },
  {
   "cell_type": "code",
   "execution_count": 107,
   "metadata": {},
   "outputs": [],
   "source": [
    "coefficient_2, p_2 = scipy.stats.pearsonr(percentage_2, statistics_2)"
   ]
  },
  {
   "cell_type": "code",
   "execution_count": 132,
   "metadata": {},
   "outputs": [
    {
     "name": "stdout",
     "output_type": "stream",
     "text": [
      "0.8399951293418265 2.4323343035884514e-14\n"
     ]
    }
   ],
   "source": [
    "print(coefficient_2,p_2)"
   ]
  },
  {
   "cell_type": "code",
   "execution_count": 108,
   "metadata": {},
   "outputs": [
    {
     "data": {
      "image/png": "[encoded data removed]",
      "text/plain": [
       "<Figure size 432x288 with 1 Axes>"
      ]
     },
     "metadata": {
      "needs_background": "light"
     },
     "output_type": "display_data"
    }
   ],
   "source": [
    "t = np.arange(50) #what is t???\n",
    "\n",
    "plt.scatter(percentage_2, statistics_2, c=t)\n",
    "plt.hlines(y = 0,xmin = 0,xmax = 100)\n",
    "plt.ylim(-2,2)\n",
    "plt.xlim(0,100)\n",
    "plt.title(\"Fig. 2. Name-gender association\")\n",
    "plt.xlabel('percentage of people with name who are women')\n",
    "plt.ylabel('strength of association of occupation word vector with female gender')\n",
    "plt.grid()\n",
    "plt.show()"
   ]
  },
  {
   "cell_type": "markdown",
   "metadata": {},
   "source": [
    "occupation-gender association"
   ]
  },
  {
   "cell_type": "code",
   "execution_count": 162,
   "metadata": {},
   "outputs": [],
   "source": [
    "occupation_table = pandas.read_csv('D:\\\\professionsBLS2015.csv')"
   ]
  },
  {
   "cell_type": "code",
   "execution_count": 163,
   "metadata": {},
   "outputs": [],
   "source": [
    "career_f1_dict = {i : 0 for i in career_f1}"
   ]
  },
  {
   "cell_type": "code",
   "execution_count": 164,
   "metadata": {},
   "outputs": [
    {
     "data": {
      "text/html": [
       "<div>\n",
       "<style scoped>\n",
       "    .dataframe tbody tr th:only-of-type {\n",
       "        vertical-align: middle;\n",
       "    }\n",
       "\n",
       "    .dataframe tbody tr th {\n",
       "        vertical-align: top;\n",
       "    }\n",
       "\n",
       "    .dataframe thead th {\n",
       "        text-align: right;\n",
       "    }\n",
       "</style>\n",
       "<table border=\"1\" class=\"dataframe\">\n",
       "  <thead>\n",
       "    <tr style=\"text-align: right;\">\n",
       "      <th></th>\n",
       "      <th>TotalEmployed</th>\n",
       "      <th>Women</th>\n",
       "      <th>AfricanAmerican</th>\n",
       "      <th>Asian</th>\n",
       "      <th>HispanicLatino</th>\n",
       "      <th>none</th>\n",
       "      <th>label1</th>\n",
       "      <th>label2</th>\n",
       "      <th>label3</th>\n",
       "      <th>label4</th>\n",
       "      <th>label5</th>\n",
       "    </tr>\n",
       "  </thead>\n",
       "  <tbody>\n",
       "    <tr>\n",
       "      <th>0</th>\n",
       "      <td>233</td>\n",
       "      <td>0.0</td>\n",
       "      <td>4.8</td>\n",
       "      <td>1.5</td>\n",
       "      <td>14.3</td>\n",
       "      <td>NaN</td>\n",
       "      <td>mechanic</td>\n",
       "      <td>technician</td>\n",
       "      <td>NaN</td>\n",
       "      <td>NaN</td>\n",
       "      <td>NaN</td>\n",
       "    </tr>\n",
       "    <tr>\n",
       "      <th>1</th>\n",
       "      <td>345</td>\n",
       "      <td>0.1</td>\n",
       "      <td>7.5</td>\n",
       "      <td>2.6</td>\n",
       "      <td>15.8</td>\n",
       "      <td>NaN</td>\n",
       "      <td>mechanic</td>\n",
       "      <td>specialist</td>\n",
       "      <td>NaN</td>\n",
       "      <td>NaN</td>\n",
       "      <td>NaN</td>\n",
       "    </tr>\n",
       "    <tr>\n",
       "      <th>2</th>\n",
       "      <td>54</td>\n",
       "      <td>0.2</td>\n",
       "      <td>12.1</td>\n",
       "      <td>0.0</td>\n",
       "      <td>49.2</td>\n",
       "      <td>NaN</td>\n",
       "      <td>mason</td>\n",
       "      <td>finisher</td>\n",
       "      <td>worker</td>\n",
       "      <td>NaN</td>\n",
       "      <td>NaN</td>\n",
       "    </tr>\n",
       "    <tr>\n",
       "      <th>3</th>\n",
       "      <td>154</td>\n",
       "      <td>0.6</td>\n",
       "      <td>5.4</td>\n",
       "      <td>0.6</td>\n",
       "      <td>22.9</td>\n",
       "      <td>NaN</td>\n",
       "      <td>repairer</td>\n",
       "      <td>NaN</td>\n",
       "      <td>NaN</td>\n",
       "      <td>NaN</td>\n",
       "      <td>NaN</td>\n",
       "    </tr>\n",
       "    <tr>\n",
       "      <th>4</th>\n",
       "      <td>172</td>\n",
       "      <td>0.7</td>\n",
       "      <td>5.3</td>\n",
       "      <td>0.0</td>\n",
       "      <td>43.3</td>\n",
       "      <td>NaN</td>\n",
       "      <td>brickmason</td>\n",
       "      <td>blockmason</td>\n",
       "      <td>stonemason</td>\n",
       "      <td>NaN</td>\n",
       "      <td>NaN</td>\n",
       "    </tr>\n",
       "  </tbody>\n",
       "</table>\n",
       "</div>"
      ],
      "text/plain": [
       "   TotalEmployed  Women  AfricanAmerican  Asian  HispanicLatino  none  \\\n",
       "0            233    0.0              4.8    1.5            14.3   NaN   \n",
       "1            345    0.1              7.5    2.6            15.8   NaN   \n",
       "2             54    0.2             12.1    0.0            49.2   NaN   \n",
       "3            154    0.6              5.4    0.6            22.9   NaN   \n",
       "4            172    0.7              5.3    0.0            43.3   NaN   \n",
       "\n",
       "       label1      label2      label3 label4 label5  \n",
       "0    mechanic  technician         NaN    NaN    NaN  \n",
       "1    mechanic  specialist         NaN    NaN    NaN  \n",
       "2       mason    finisher      worker    NaN    NaN  \n",
       "3    repairer         NaN         NaN    NaN    NaN  \n",
       "4  brickmason  blockmason  stonemason    NaN    NaN  "
      ]
     },
     "execution_count": 164,
     "metadata": {},
     "output_type": "execute_result"
    }
   ],
   "source": [
    "occupation_table.head()"
   ]
  },
  {
   "cell_type": "code",
   "execution_count": 165,
   "metadata": {},
   "outputs": [],
   "source": [
    "len_occupation = len(occupation_table.iloc[:,0])\n",
    "for name in career_f1:\n",
    "    total = 0\n",
    "    women = 0\n",
    "    for i in range(len_occupation):\n",
    "        if ((occupation_table.iloc[i,6] == name) or (occupation_table.iloc[i,7] == name) or (occupation_table.iloc[i,8] == name) or (occupation_table.iloc[i,9] == name) or (occupation_table.iloc[i,10] == name)):\n",
    "            total += occupation_table.iloc[i,0]\n",
    "            women += occupation_table.iloc[i,1] * occupation_table.iloc[i,0]\n",
    "    if total != 0:\n",
    "        women_per = women/total\n",
    "    else:\n",
    "        women_per = 0\n",
    "\n",
    "    career_f1_dict[name] = women_per "
   ]
  },
  {
   "cell_type": "code",
   "execution_count": 166,
   "metadata": {},
   "outputs": [
    {
     "data": {
      "text/plain": [
       "{'technician': 40.34056467181467,\n",
       " 'accountant': 59.7,\n",
       " 'supervisor': 38.6379693009749,\n",
       " 'engineer': 10.722061694650526,\n",
       " 'worker': 36.66022222222222,\n",
       " 'educator': 70.8,\n",
       " 'clerk': 69.52600336457581,\n",
       " 'counselor': 66.48148148148148,\n",
       " 'inspector': 34.37125890736342,\n",
       " 'mechanic': 1.7982375478927202,\n",
       " 'manager': 38.50873921514056,\n",
       " 'therapist': 76.70205479452055,\n",
       " 'administrator': 54.85859564164649,\n",
       " 'salesperson': 48.07780979827089,\n",
       " 'receptionist': 90.6,\n",
       " 'librarian': 83.0,\n",
       " 'advisor': 37.9,\n",
       " 'pharmacist': 57.0,\n",
       " 'janitor': 34.3,\n",
       " 'psychologist': 70.3,\n",
       " 'physician': 37.9,\n",
       " 'carpenter': 2.072930648769575,\n",
       " 'nurse': 89.57869198312237,\n",
       " 'investigator': 45.147079646017694,\n",
       " 'bartender': 59.8,\n",
       " 'specialist': 41.246656217345866,\n",
       " 'electrician': 2.3,\n",
       " 'officer': 27.898393724318268,\n",
       " 'pathologist': 98.6,\n",
       " 'teacher': 70.99674980100822,\n",
       " 'lawyer': 34.5,\n",
       " 'planner': 78.6,\n",
       " 'practitioner': 74.78910505836575,\n",
       " 'plumber': 0.7,\n",
       " 'instructor': 62.3,\n",
       " 'surgeon': 37.9,\n",
       " 'veterinarian': 60.5,\n",
       " 'paramedic': 32.9,\n",
       " 'examiner': 56.860949868073874,\n",
       " 'chemist': 36.1,\n",
       " 'machinist': 6.7,\n",
       " 'appraiser': 52.23702770780856,\n",
       " 'nutritionist': 94.6,\n",
       " 'architect': 20.809148264984223,\n",
       " 'hairdresser': 94.20000000000002,\n",
       " 'baker': 60.8,\n",
       " 'programmer': 18.350704225352114,\n",
       " 'paralegal': 85.4,\n",
       " 'hygienist': 96.39999999999999,\n",
       " 'scientist': 41.9448275862069}"
      ]
     },
     "execution_count": 166,
     "metadata": {},
     "output_type": "execute_result"
    }
   ],
   "source": [
    "career_f1_dict"
   ]
  },
  {
   "cell_type": "code",
   "execution_count": 167,
   "metadata": {},
   "outputs": [],
   "source": [
    "percentage_1 = []\n",
    "statistics_1 = []\n",
    "\n",
    "for i in career_f1:\n",
    "    percentage_1.append(career_f1_dict[i])\n",
    "    statistics_1.append(associate_f_1_dict[i])"
   ]
  },
  {
   "cell_type": "code",
   "execution_count": 168,
   "metadata": {},
   "outputs": [],
   "source": [
    "coefficient_1, p_1 = scipy.stats.pearsonr(percentage_1, statistics_1)"
   ]
  },
  {
   "cell_type": "code",
   "execution_count": 169,
   "metadata": {},
   "outputs": [
    {
     "name": "stdout",
     "output_type": "stream",
     "text": [
      "0.9028895236815557 3.175315064954756e-19\n"
     ]
    }
   ],
   "source": [
    "print(coefficient_1,p_1)"
   ]
  },
  {
   "cell_type": "code",
   "execution_count": 170,
   "metadata": {},
   "outputs": [
    {
     "data": {
      "text/plain": [
       "[40.34056467181467,\n",
       " 59.7,\n",
       " 38.6379693009749,\n",
       " 10.722061694650526,\n",
       " 36.66022222222222,\n",
       " 70.8,\n",
       " 69.52600336457581,\n",
       " 66.48148148148148,\n",
       " 34.37125890736342,\n",
       " 1.7982375478927202,\n",
       " 38.50873921514056,\n",
       " 76.70205479452055,\n",
       " 54.85859564164649,\n",
       " 48.07780979827089,\n",
       " 90.6,\n",
       " 83.0,\n",
       " 37.9,\n",
       " 57.0,\n",
       " 34.3,\n",
       " 70.3,\n",
       " 37.9,\n",
       " 2.072930648769575,\n",
       " 89.57869198312237,\n",
       " 45.147079646017694,\n",
       " 59.8,\n",
       " 41.246656217345866,\n",
       " 2.3,\n",
       " 27.898393724318268,\n",
       " 98.6,\n",
       " 70.99674980100822,\n",
       " 34.5,\n",
       " 78.6,\n",
       " 74.78910505836575,\n",
       " 0.7,\n",
       " 62.3,\n",
       " 37.9,\n",
       " 60.5,\n",
       " 32.9,\n",
       " 56.860949868073874,\n",
       " 36.1,\n",
       " 6.7,\n",
       " 52.23702770780856,\n",
       " 94.6,\n",
       " 20.809148264984223,\n",
       " 94.20000000000002,\n",
       " 60.8,\n",
       " 18.350704225352114,\n",
       " 85.4,\n",
       " 96.39999999999999,\n",
       " 41.9448275862069]"
      ]
     },
     "execution_count": 170,
     "metadata": {},
     "output_type": "execute_result"
    }
   ],
   "source": [
    "percentage_1"
   ]
  },
  {
   "cell_type": "code",
   "execution_count": 171,
   "metadata": {},
   "outputs": [
    {
     "data": {
      "image/png": "[encoded data removed]",
      "text/plain": [
       "<Figure size 432x288 with 1 Axes>"
      ]
     },
     "metadata": {
      "needs_background": "light"
     },
     "output_type": "display_data"
    }
   ],
   "source": [
    "\n",
    "\n",
    "t = np.arange(50) #what is t???\n",
    "\n",
    "plt.scatter(percentage_1, statistics_1, c=t)\n",
    "plt.hlines(y = 0,xmin = 0,xmax = 100)\n",
    "plt.ylim(-2,2)\n",
    "plt.xlim(0,100)\n",
    "plt.title(\"Fig. 1. Occupation-gender association\")\n",
    "plt.xlabel('percentage of workers in occupation who are women')\n",
    "plt.ylabel('strength of association of occupation word vector with female gender')\n",
    "plt.grid()\n",
    "plt.show()"
   ]
  }
 ],
 "metadata": {
  "kernelspec": {
   "display_name": "Python 3",
   "language": "python",
   "name": "python3"
  },
  "language_info": {
   "codemirror_mode": {
    "name": "ipython",
    "version": 3
   },
   "file_extension": ".py",
   "mimetype": "text/x-python",
   "name": "python",
   "nbconvert_exporter": "python",
   "pygments_lexer": "ipython3",
   "version": "3.7.3"
  }
 },
 "nbformat": 4,
 "nbformat_minor": 2
}
